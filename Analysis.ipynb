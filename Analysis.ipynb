{
 "cells": [
  {
   "cell_type": "code",
   "execution_count": 22,
   "metadata": {
    "collapsed": true,
    "ExecuteTime": {
     "end_time": "2023-06-02T08:27:14.006339900Z",
     "start_time": "2023-06-02T08:27:12.685238700Z"
    }
   },
   "outputs": [
    {
     "name": "stdout",
     "output_type": "stream",
     "text": [
      "<class 'pandas.core.frame.DataFrame'>\n",
      "RangeIndex: 163065 entries, 0 to 163064\n",
      "Data columns (total 12 columns):\n",
      " #   Column                                Non-Null Count   Dtype  \n",
      "---  ------                                --------------   -----  \n",
      " 0   DRG Definition                        163065 non-null  object \n",
      " 1   Provider Id                           159130 non-null  object \n",
      " 2   Provider Name                         163065 non-null  object \n",
      " 3   Provider Street Address               163065 non-null  object \n",
      " 4   Provider City                         163065 non-null  object \n",
      " 5   Provider State                        163065 non-null  object \n",
      " 6   Provider Zip Code                     163065 non-null  object \n",
      " 7   Hospital Referral Region Description  163065 non-null  object \n",
      " 8    Total Discharges                     163065 non-null  object \n",
      " 9    Average Covered Charges              157430 non-null  float64\n",
      " 10   Average Total Payments               163065 non-null  float64\n",
      " 11  Average Medicare Payments             162081 non-null  float64\n",
      "dtypes: float64(3), object(9)\n",
      "memory usage: 14.9+ MB\n"
     ]
    },
    {
     "data": {
      "text/plain": "                             DRG Definition Provider Id  \\\n0  039 - EXTRACRANIAL PROCEDURES W/O CC/MCC       10001   \n1  039 - EXTRACRANIAL PROCEDURES W/O CC/MCC       10005   \n2  039 - EXTRACRANIAL PROCEDURES W/O CC/MCC       10006   \n3  039 - EXTRACRANIAL PROCEDURES W/O CC/MCC       10011   \n4  039 - EXTRACRANIAL PROCEDURES W/O CC/MCC       10016   \n\n                      Provider Name     Provider Street Address Provider City  \\\n0  SOUTHEAST ALABAMA MEDICAL CENTER      1108 ROSS CLARK CIRCLE        DOTHAN   \n1     MARSHALL MEDICAL CENTER SOUTH  2505 U S HIGHWAY 431 NORTH          BOAZ   \n2    ELIZA COFFEE MEMORIAL HOSPITAL          205 MARENGO STREET      FLORENCE   \n3                 ST VINCENT'S EAST  50 MEDICAL PARK EAST DRIVE    BIRMINGHAM   \n4     SHELBY BAPTIST MEDICAL CENTER     1000 FIRST STREET NORTH     ALABASTER   \n\n  Provider State Provider Zip Code Hospital Referral Region Description  \\\n0             AL             36301                          AL - Dothan   \n1             AL             35957                      AL - Birmingham   \n2             AL             35631                      AL - Birmingham   \n3             AL             35235                      AL - Birmingham   \n4             AL             35007                      AL - Birmingham   \n\n   Total Discharges    Average Covered Charges    Average Total Payments   \\\n0                 91                   32963.07                   5777.24   \n1                 14                   15131.85                   5787.57   \n2                 24                   37560.37                   5434.95   \n3                 25                   13998.28                   5417.56   \n4                 18                   31633.27                   5658.33   \n\n   Average Medicare Payments  \n0                    4763.73  \n1                    4976.71  \n2                    4453.79  \n3                    4129.16  \n4                    4851.44  ",
      "text/html": "<div>\n<style scoped>\n    .dataframe tbody tr th:only-of-type {\n        vertical-align: middle;\n    }\n\n    .dataframe tbody tr th {\n        vertical-align: top;\n    }\n\n    .dataframe thead th {\n        text-align: right;\n    }\n</style>\n<table border=\"1\" class=\"dataframe\">\n  <thead>\n    <tr style=\"text-align: right;\">\n      <th></th>\n      <th>DRG Definition</th>\n      <th>Provider Id</th>\n      <th>Provider Name</th>\n      <th>Provider Street Address</th>\n      <th>Provider City</th>\n      <th>Provider State</th>\n      <th>Provider Zip Code</th>\n      <th>Hospital Referral Region Description</th>\n      <th>Total Discharges</th>\n      <th>Average Covered Charges</th>\n      <th>Average Total Payments</th>\n      <th>Average Medicare Payments</th>\n    </tr>\n  </thead>\n  <tbody>\n    <tr>\n      <th>0</th>\n      <td>039 - EXTRACRANIAL PROCEDURES W/O CC/MCC</td>\n      <td>10001</td>\n      <td>SOUTHEAST ALABAMA MEDICAL CENTER</td>\n      <td>1108 ROSS CLARK CIRCLE</td>\n      <td>DOTHAN</td>\n      <td>AL</td>\n      <td>36301</td>\n      <td>AL - Dothan</td>\n      <td>91</td>\n      <td>32963.07</td>\n      <td>5777.24</td>\n      <td>4763.73</td>\n    </tr>\n    <tr>\n      <th>1</th>\n      <td>039 - EXTRACRANIAL PROCEDURES W/O CC/MCC</td>\n      <td>10005</td>\n      <td>MARSHALL MEDICAL CENTER SOUTH</td>\n      <td>2505 U S HIGHWAY 431 NORTH</td>\n      <td>BOAZ</td>\n      <td>AL</td>\n      <td>35957</td>\n      <td>AL - Birmingham</td>\n      <td>14</td>\n      <td>15131.85</td>\n      <td>5787.57</td>\n      <td>4976.71</td>\n    </tr>\n    <tr>\n      <th>2</th>\n      <td>039 - EXTRACRANIAL PROCEDURES W/O CC/MCC</td>\n      <td>10006</td>\n      <td>ELIZA COFFEE MEMORIAL HOSPITAL</td>\n      <td>205 MARENGO STREET</td>\n      <td>FLORENCE</td>\n      <td>AL</td>\n      <td>35631</td>\n      <td>AL - Birmingham</td>\n      <td>24</td>\n      <td>37560.37</td>\n      <td>5434.95</td>\n      <td>4453.79</td>\n    </tr>\n    <tr>\n      <th>3</th>\n      <td>039 - EXTRACRANIAL PROCEDURES W/O CC/MCC</td>\n      <td>10011</td>\n      <td>ST VINCENT'S EAST</td>\n      <td>50 MEDICAL PARK EAST DRIVE</td>\n      <td>BIRMINGHAM</td>\n      <td>AL</td>\n      <td>35235</td>\n      <td>AL - Birmingham</td>\n      <td>25</td>\n      <td>13998.28</td>\n      <td>5417.56</td>\n      <td>4129.16</td>\n    </tr>\n    <tr>\n      <th>4</th>\n      <td>039 - EXTRACRANIAL PROCEDURES W/O CC/MCC</td>\n      <td>10016</td>\n      <td>SHELBY BAPTIST MEDICAL CENTER</td>\n      <td>1000 FIRST STREET NORTH</td>\n      <td>ALABASTER</td>\n      <td>AL</td>\n      <td>35007</td>\n      <td>AL - Birmingham</td>\n      <td>18</td>\n      <td>31633.27</td>\n      <td>5658.33</td>\n      <td>4851.44</td>\n    </tr>\n  </tbody>\n</table>\n</div>"
     },
     "execution_count": 22,
     "metadata": {},
     "output_type": "execute_result"
    }
   ],
   "source": [
    "import pandas as pd\n",
    "\n",
    "df = pd.read_csv(\"inpatientCharges.csv\", sep=\";\", low_memory=False)\n",
    "df = df.drop(columns=['Unnamed: 12', 'Unnamed: 13', 'Unnamed: 14', 'Unnamed: 15'])\n",
    "df[' Average Covered Charges '] = df[' Average Covered Charges '].map(lambda x: x.lstrip('$'))\n",
    "df[' Average Covered Charges '] = pd.to_numeric(df[' Average Covered Charges '], errors='coerce')\n",
    "df[' Average Total Payments ' ] = df[' Average Total Payments '].map(lambda x: x.lstrip('$'))\n",
    "df[' Average Total Payments ' ] = pd.to_numeric(df[' Average Total Payments ' ], errors='coerce')\n",
    "df['Average Medicare Payments'] = df['Average Medicare Payments'] .map(lambda x: x.lstrip('$'))\n",
    "df['Average Medicare Payments'] = pd.to_numeric(df['Average Medicare Payments'], errors='coerce')\n",
    "df.info()\n",
    "\n",
    "df.head()\n"
   ]
  }
 ],
 "metadata": {
  "kernelspec": {
   "display_name": "Python 3",
   "language": "python",
   "name": "python3"
  },
  "language_info": {
   "codemirror_mode": {
    "name": "ipython",
    "version": 2
   },
   "file_extension": ".py",
   "mimetype": "text/x-python",
   "name": "python",
   "nbconvert_exporter": "python",
   "pygments_lexer": "ipython2",
   "version": "2.7.6"
  }
 },
 "nbformat": 4,
 "nbformat_minor": 0
}
